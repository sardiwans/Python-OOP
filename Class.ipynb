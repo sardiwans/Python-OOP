{
  "nbformat": 4,
  "nbformat_minor": 0,
  "metadata": {
    "colab": {
      "provenance": [],
      "authorship_tag": "ABX9TyNIL6zI3EIHky/vuz6F/4Vl"
    },
    "kernelspec": {
      "name": "python3",
      "display_name": "Python 3"
    },
    "language_info": {
      "name": "python"
    }
  },
  "cells": [
    {
      "cell_type": "markdown",
      "source": [
        "#**`Python Object Oriented Programming`**\n",
        "Pyton OOP atau Python PBO adalah paradigma yang menjadikan semua komponen program sebagai objek. Yang mana setiap objek memiliki identitas dan tugasnya masing-masing"
      ],
      "metadata": {
        "id": "zdtzTGbSLDba"
      }
    },
    {
      "cell_type": "markdown",
      "source": [
        "## **Class**\n",
        "- Function jika berada pada konsep OOP akan berganti nama menjadi Method\n",
        "- Class merupakan blueprint untuk membuat sebuah object"
      ],
      "metadata": {
        "id": "iFxZvxWsMLb_"
      }
    },
    {
      "cell_type": "code",
      "execution_count": null,
      "metadata": {
        "id": "_n5sjcM9Kmo9"
      },
      "outputs": [],
      "source": [
        "# Membuat class\n",
        "class person:\n",
        "  nama = \"Sardiwan\"\n",
        "  umur = 22"
      ]
    },
    {
      "cell_type": "code",
      "source": [
        "print(type(person))"
      ],
      "metadata": {
        "colab": {
          "base_uri": "https://localhost:8080/"
        },
        "id": "qKOimnqpMuJN",
        "outputId": "65ab9406-80b7-4ed4-deae-1b784289e64d"
      },
      "execution_count": null,
      "outputs": [
        {
          "output_type": "stream",
          "name": "stdout",
          "text": [
            "<class 'type'>\n"
          ]
        }
      ]
    },
    {
      "cell_type": "code",
      "source": [
        "# Membuat object dari class\n",
        "obj = person()"
      ],
      "metadata": {
        "id": "0AzxFdo-MssT"
      },
      "execution_count": null,
      "outputs": []
    },
    {
      "cell_type": "code",
      "source": [
        "# Memanggil salah satu nilai dari class\n",
        "print(obj.nama)\n",
        "print(obj.umur)"
      ],
      "metadata": {
        "colab": {
          "base_uri": "https://localhost:8080/"
        },
        "id": "nY2g7AA4M5lM",
        "outputId": "53eb6685-80fb-4023-fb25-51bdf3aabe4f"
      },
      "execution_count": null,
      "outputs": [
        {
          "output_type": "stream",
          "name": "stdout",
          "text": [
            "Sardiwan\n",
            "22\n"
          ]
        }
      ]
    },
    {
      "cell_type": "markdown",
      "source": [
        "## **Fungsi __init__()**\n",
        "- Fungsi __init__() akan otomatis dipanggil ketika kita membuat sebuah object\n",
        "- Dengan fungsi ini, kita dapat mendeklarasikan property yang dimiliki oleh sebuah class"
      ],
      "metadata": {
        "id": "nxqMzJBdOfvx"
      }
    },
    {
      "cell_type": "code",
      "source": [
        "# Membuat class dengan fungsi __init__()\n",
        "class Person:\n",
        "  def __init__(self, nama, umur): # self adalah parameter bawaan, dan sisanya adalah variabel lokal\n",
        "    self.nama = nama # Mendeklarasikan bahwa nama pada variabel lokal sama dengan variabel Global\n",
        "    self.umur = umur\n",
        "\n",
        "  def halo(self):\n",
        "    print(\"Halo, nama saya \" + self.nama + \", umur saya \" + str(self.umur) + \" tahun.\")"
      ],
      "metadata": {
        "id": "J3hbAJd3O1Is"
      },
      "execution_count": null,
      "outputs": []
    },
    {
      "cell_type": "code",
      "source": [
        "orang_pertama = Person(\"Sardiwan\", 22) # Harus mengisi kedua parameter dengan urutan yang benar"
      ],
      "metadata": {
        "id": "C1aC0_AqPI8U"
      },
      "execution_count": null,
      "outputs": []
    },
    {
      "cell_type": "code",
      "source": [
        "# Memanggil nilai pada orang_pertama\n",
        "print(orang_pertama.nama)\n",
        "print(orang_pertama.umur)"
      ],
      "metadata": {
        "colab": {
          "base_uri": "https://localhost:8080/"
        },
        "id": "kYr942yePTVK",
        "outputId": "03e9587f-87ca-498b-9741-1b5412cf7f42"
      },
      "execution_count": null,
      "outputs": [
        {
          "output_type": "stream",
          "name": "stdout",
          "text": [
            "Sardiwan\n",
            "22\n"
          ]
        }
      ]
    },
    {
      "cell_type": "code",
      "source": [
        "orang_kedua = Person(\"Simamora\", 22) # Harus mengisi kedua parameter dengan urutan yang benar"
      ],
      "metadata": {
        "id": "KLlDcs1rPffA"
      },
      "execution_count": null,
      "outputs": []
    },
    {
      "cell_type": "code",
      "source": [
        "# Memanggil nilai pada object orang_kedua\n",
        "print(orang_kedua.nama)\n",
        "print(orang_kedua.umur)"
      ],
      "metadata": {
        "colab": {
          "base_uri": "https://localhost:8080/"
        },
        "id": "8YUSaZz_PmSM",
        "outputId": "bccbadd8-a9f1-4a40-cf68-73e4e3278e46"
      },
      "execution_count": null,
      "outputs": [
        {
          "output_type": "stream",
          "name": "stdout",
          "text": [
            "Simamora\n",
            "22\n"
          ]
        }
      ]
    },
    {
      "cell_type": "code",
      "source": [
        "# Memanggil seluruh nilai yang ada\n",
        "print(orang_pertama.__dict__) # Memanggil semua nilai pada object orang_pertama dan memuatnya kedalam dictionary\n",
        "print(orang_kedua.__dict__) # Memanggil semua nilai pada object orang_kedua dan memuatnya kedalam dictionary"
      ],
      "metadata": {
        "colab": {
          "base_uri": "https://localhost:8080/"
        },
        "id": "NWjjtx1OPvDC",
        "outputId": "5cd67405-2ca0-438d-b319-e8e733bb7990"
      },
      "execution_count": null,
      "outputs": [
        {
          "output_type": "stream",
          "name": "stdout",
          "text": [
            "{'nama': 'Sardiwan', 'umur': 22}\n",
            "{'nama': 'Simamora', 'umur': 22}\n"
          ]
        }
      ]
    },
    {
      "cell_type": "code",
      "source": [
        "# Memanggil object dengan function\n",
        "orang_pertama.halo()"
      ],
      "metadata": {
        "colab": {
          "base_uri": "https://localhost:8080/"
        },
        "id": "jgNPHb1DROPE",
        "outputId": "a8dd1329-5fe6-4f45-e9fa-5eab806a677a"
      },
      "execution_count": null,
      "outputs": [
        {
          "output_type": "stream",
          "name": "stdout",
          "text": [
            "Halo, nama saya Sardiwan, umur saya 22 tahun.\n"
          ]
        }
      ]
    },
    {
      "cell_type": "code",
      "source": [
        "orang_kedua.halo()"
      ],
      "metadata": {
        "colab": {
          "base_uri": "https://localhost:8080/"
        },
        "id": "6BnqwT14Sg_k",
        "outputId": "e0d11249-3960-464a-f366-19a2e005ca7d"
      },
      "execution_count": null,
      "outputs": [
        {
          "output_type": "stream",
          "name": "stdout",
          "text": [
            "Halo, nama saya Simamora, umur saya 22 tahun.\n"
          ]
        }
      ]
    }
  ]
}